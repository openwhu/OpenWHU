{
 "cells": [
  {
   "cell_type": "markdown",
   "id": "d00153ce",
   "metadata": {},
   "source": [
    "# 第一次计算物理作业"
   ]
  },
  {
   "cell_type": "markdown",
   "id": "da0cb315",
   "metadata": {},
   "source": [
    "学号： 2021300002018"
   ]
  },
  {
   "cell_type": "markdown",
   "id": "581b8bec",
   "metadata": {},
   "source": [
    "姓名： 朱向阳"
   ]
  },
  {
   "cell_type": "markdown",
   "id": "889bddeb",
   "metadata": {},
   "source": [
    "## 1. 使用vpython绘制复杂的三维结构，并让这个三维结构运动来。（太阳系行星模拟）"
   ]
  },
  {
   "cell_type": "markdown",
   "id": "99198dc9",
   "metadata": {},
   "source": [
    "（用万有引力公式计算，自动调整摄像机视角）"
   ]
  },
  {
   "cell_type": "code",
   "execution_count": 209,
   "id": "90d3814e",
   "metadata": {},
   "outputs": [
    {
     "data": {
      "text/html": [
       "<div id=\"glowscript\" class=\"glowscript\"></div>"
      ],
      "text/plain": [
       "<IPython.core.display.HTML object>"
      ]
     },
     "metadata": {},
     "output_type": "display_data"
    },
    {
     "data": {
      "application/javascript": [
       "if (typeof Jupyter !== \"undefined\") { window.__context = { glowscript_container: $(\"#glowscript\").removeAttr(\"id\")};}else{ element.textContent = ' ';}"
      ],
      "text/plain": [
       "<IPython.core.display.Javascript object>"
      ]
     },
     "metadata": {},
     "output_type": "display_data"
    }
   ],
   "source": [
    "import vpython as vp\n",
    "import numpy as np\n",
    "import os \n",
    "import scipy\n",
    "import matplotlib.pyplot as plt\n",
    "import pandas"
   ]
  },
  {
   "cell_type": "code",
   "execution_count": 210,
   "id": "0b2669ab",
   "metadata": {},
   "outputs": [],
   "source": [
    "# 因为按照真实比例画太阳系模型画不下来，故此处星球各参数为调整后的比例\n",
    "\n",
    "info = {'sun': {'index': 1, 'texture': 'Sun_texture.jpg', 'm': 1000, 'pos': vp.vector(0,0,0), 'r': 0.5, 'p': vp.vector(0,0,0), 'rotate':0.3, 'trail_c': vp.color.white, 'rotate_axis':vp.vector(0, 1, 0)}, \n",
    "         'mercury': {'index': 2, 'texture': 'mercury_texture.jpg', 'm': 0.01, 'pos': vp.vector(1,0,0), 'r': 0.05, 'p': vp.vector(0, 0,-0.3), 'rotate':0.2, 'trail_c': vp.color.white, 'rotate_axis':vp.vector(0, 1, 0)},\n",
    "         'venus': {'index': 3, 'texture': 'venus_texture.jpg', 'm': 0.02, 'pos': vp.vector(0,0,3), 'r': 0.075, 'p': vp.vector(0.35,0,0), 'rotate':0.1, 'trail_c': vp.color.white, 'rotate_axis':vp.vector(0, 1, 0)},\n",
    "         'earth': {'index': 4, 'texture': 'earth_texture.jpg', 'm': 0.10, 'pos': vp.vector(-4,0,0), 'r': 0.1, 'p': vp.vector(0,0,1.6), 'rotate':0.4, 'trail_c': vp.color.white, 'rotate_axis':vp.vector(0, -1, 0)},\n",
    "         'mars': {'index': 5, 'texture': 'mars_texture.jpg', 'm': 0.06, 'pos': vp.vector(0,0,6), 'r': 0.08, 'p': vp.vector(0.8,0,0), 'rotate':0.25, 'trail_c': vp.color.white, 'rotate_axis':vp.vector(0, 1, 0)},\n",
    "         'jupyter': {'index': 6, 'texture': 'jupyter_texture.jpg', 'm': 2, 'pos': vp.vector(9,0,0), 'r': 0.2, 'p': vp.vector(0,0,-22), 'rotate':0.1, 'trail_c': vp.color.white, 'rotate_axis':vp.vector(0, 1, 0)},\n",
    "         'saturn': {'index': 7, 'texture': 'saturn_texture.jpeg', 'm': 1.6, 'pos': vp.vector(0,0,12), 'r': 0.1, 'p': vp.vector(14,0,0), 'rotate':0.4, 'trail_c': vp.color.white, 'rotate_axis':vp.vector(0, 1, 0)},\n",
    "         'uranus': {'index': 8, 'texture': 'uranus_texture.png', 'm': 1.4, 'pos': vp.vector(-13,0,0), 'r': 0.07, 'p': vp.vector(0,0,12), 'rotate':0.3, 'trail_c': vp.color.white, 'rotate_axis':vp.vector(0, 1, 0)},\n",
    "         'neptune': {'index': 9, 'texture': 'neptune_texture.jpg', 'm': 1.2, 'pos': vp.vector(0,0,15), 'r': 0.06, 'p': vp.vector(10,0,0), 'rotate':0.2, 'trail_c': vp.color.white, 'rotate_axis':vp.vector(0, 1, 0)},\n",
    "         'moon': {'index': 10, 'texture': 'moon_texture.jpeg', 'm': 0.001, 'pos': vp.vector(0,-4,0.05), 'r': 0.04, 'p': vp.vector(0.001,0,-0.02), 'rotate':0.1,  'trail_c': vp.color.white, 'rotate_axis':vp.vector(0, 1, 0)}}\n",
    "\n",
    "# 星球信息列表\n",
    "\n",
    "texture_url = {'sun':'https://s2.loli.net/2023/10/10/wnQK3Y2xj54vf6I.jpg',\n",
    "               'mercury':'https://s2.loli.net/2023/10/10/cKfoW3hjvYCx52O.jpg',\n",
    "               'venus':'https://s2.loli.net/2023/10/10/W8vBfG6PFICdZOu.jpg',\n",
    "               'earth':'https://s2.loli.net/2023/10/10/fxpiz7IT5qtC2us.jpg',\n",
    "               'mars':'https://s2.loli.net/2023/10/10/IMWoVSmC183p2UB.jpg',\n",
    "               'jupyter':'https://s2.loli.net/2023/10/10/ODx7nAuRsKhPaWC.jpg',\n",
    "               'saturn':'https://s2.loli.net/2023/10/10/hsZYaIClwq34GPN.jpg',\n",
    "               'uranus':'https://s2.loli.net/2023/10/10/ayA9r6hfFTndtQc.png',\n",
    "               'neptune':'https://s2.loli.net/2023/10/10/Q4tnGAaZRJOcEzh.jpg',\n",
    "               'moon':'https://s2.loli.net/2023/10/10/Q4tnGAaZRJOcEzh.jpg'\n",
    "              }\n",
    "# 因为提交的ipynb,故使用图床加载材质"
   ]
  },
  {
   "cell_type": "code",
   "execution_count": 211,
   "id": "89ad43fb",
   "metadata": {
    "scrolled": false
   },
   "outputs": [
    {
     "data": {
      "text/html": [
       "<div id=\"glowscript\" class=\"glowscript\"></div>"
      ],
      "text/plain": [
       "<IPython.core.display.HTML object>"
      ]
     },
     "metadata": {},
     "output_type": "display_data"
    },
    {
     "data": {
      "application/javascript": [
       "if (typeof Jupyter !== \"undefined\") { window.__context = { glowscript_container: $(\"#glowscript\").removeAttr(\"id\")};}else{ element.textContent = ' ';}"
      ],
      "text/plain": [
       "<IPython.core.display.Javascript object>"
      ]
     },
     "metadata": {},
     "output_type": "display_data"
    },
    {
     "data": {
      "application/javascript": [
       "if (typeof Jupyter !== \"undefined\") {require.undef(\"nbextensions/vpython_libraries/glow.min\");}else{element.textContent = ' ';}"
      ],
      "text/plain": [
       "<IPython.core.display.Javascript object>"
      ]
     },
     "metadata": {},
     "output_type": "display_data"
    },
    {
     "data": {
      "application/javascript": [
       "if (typeof Jupyter !== \"undefined\") {require.undef(\"nbextensions/vpython_libraries/glowcomm\");}else{element.textContent = ' ';}"
      ],
      "text/plain": [
       "<IPython.core.display.Javascript object>"
      ]
     },
     "metadata": {},
     "output_type": "display_data"
    },
    {
     "data": {
      "application/javascript": [
       "if (typeof Jupyter !== \"undefined\") {require.undef(\"nbextensions/vpython_libraries/jquery-ui.custom.min\");}else{element.textContent = ' ';}"
      ],
      "text/plain": [
       "<IPython.core.display.Javascript object>"
      ]
     },
     "metadata": {},
     "output_type": "display_data"
    },
    {
     "data": {
      "application/javascript": [
       "if (typeof Jupyter !== \"undefined\") {require([\"nbextensions/vpython_libraries/glow.min\"], function(){console.log(\"GLOW LOADED\");});}else{element.textContent = ' ';}"
      ],
      "text/plain": [
       "<IPython.core.display.Javascript object>"
      ]
     },
     "metadata": {},
     "output_type": "display_data"
    },
    {
     "data": {
      "application/javascript": [
       "if (typeof Jupyter !== \"undefined\") {require([\"nbextensions/vpython_libraries/glowcomm\"], function(){console.log(\"GLOWCOMM LOADED\");});}else{element.textContent = ' ';}"
      ],
      "text/plain": [
       "<IPython.core.display.Javascript object>"
      ]
     },
     "metadata": {},
     "output_type": "display_data"
    },
    {
     "data": {
      "application/javascript": [
       "if (typeof Jupyter !== \"undefined\") {require([\"nbextensions/vpython_libraries/jquery-ui.custom.min\"], function(){console.log(\"JQUERY LOADED\");});}else{element.textContent = ' ';}"
      ],
      "text/plain": [
       "<IPython.core.display.Javascript object>"
      ]
     },
     "metadata": {},
     "output_type": "display_data"
    }
   ],
   "source": [
    "scene = vp.canvas(title=\"Solar System\", width=1000, height=1000, x=0, y=0,\n",
    "               center=vp.vector(0, 0, 0), background=vp.color.black, autoscale=True)\n",
    "\n",
    "scene.range = 1\n",
    "\n",
    "stars_name = list(info.keys())\n",
    "index = np.arange(0,9) # 因为月球的数值很难调整合适，故暂不画月球\n",
    "stars_name = np.array(stars_name)[index]\n",
    "# stars = [vp.sphere(pos=info[star]['pos'], radius=info[star]['r'], mass=info[star]['m'], momentum=info[star]['p'], \n",
    "#          texture=info[star]['texture'], make_trail=True, trail_radius=0.005) for star in stars_name]\n",
    "stars = [vp.sphere(pos=info[star]['pos'], radius=info[star]['r'], mass=info[star]['m'], momentum=info[star]['p'], \n",
    "         texture={'file':texture_url[star]}, make_trail=True, trail_radius=0.01) for star in stars_name]\n",
    "\n",
    "star_num = len(stars)\n",
    "rotate_speed = np.array([x['rotate'] for x in info.values()])[index] #自转速度\n",
    "rotate_angle = np.zeros(star_num) # 转角\n",
    "rotate_axis = np.array([x['rotate_axis'] for x in info.values()])[index] #转轴\n",
    "scene.waitfor(\"textures\")\n",
    "scene.visible\n",
    "\n",
    "G = 1 #暂定为1 \n",
    "\n",
    "def update_pos(G, star_num, pos, mass, momentum, dt):\n",
    "#更新坐标函数，用numpy加速计算\n",
    "\n",
    "    mass_matrix = (mass.reshape(star_num, 1) * mass)[~ np.eye(star_num,dtype=bool)].reshape(star_num, star_num-1, 1)\n",
    "    # 计算m1*m2矩阵，同时删去对角元素\n",
    "    bool_matrix = ~ np.repeat(np.eye(star_num,dtype=bool).reshape(star_num, star_num, 1), 3, axis=2)\n",
    "    rvector_matrix = np.tile(pos, (star_num, 1, 1)).transpose(1,0,2) - np.tile(pos, (star_num, 1, 1))\n",
    "    # 计算r1-r2矩阵， rvector_matrix: r_ij = pos_i - pos_j\n",
    "    rvector_diag = rvector_matrix[bool_matrix].reshape(star_num, star_num-1, 3)\n",
    "    # 删去对角\n",
    "    mag_matrix = np.linalg.norm(rvector_diag, axis=2, keepdims=True)\n",
    "    F_matrix = - G * rvector_diag * mass_matrix / mag_matrix**3\n",
    "    # 计算引力矩阵\n",
    "    Force = np.sum(F_matrix, axis=1)\n",
    "    momentum = momentum + Force * dt\n",
    "    pos = pos + momentum / mass.reshape(star_num, 1) * dt\n",
    "    # 合并计算新坐标\n",
    "    return pos, momentum"
   ]
  },
  {
   "cell_type": "code",
   "execution_count": null,
   "id": "eac79ddd",
   "metadata": {},
   "outputs": [],
   "source": [
    "t = 0\n",
    "dt = 0.000002 # 时间步进\n",
    "\n",
    "while(True):\n",
    "    vp.rate(1000000)\n",
    "    \n",
    "    pos = np.array([star.pos.value for star in stars])\n",
    "    mass = np.array([star.mass for star in stars])\n",
    "    momentum = np.array([star.momentum.value for star in stars])\n",
    "    # vpython.vector转换为numpy数组\n",
    "    \n",
    "    pos, momentum = update_pos(G, star_num, pos, mass, momentum, dt)\n",
    "    rotate_angle += rotate_speed * dt * 0.001 #  控制自转\n",
    "\n",
    "    for i in range(star_num):\n",
    "        stars[i].pos = vp.vector(pos[i][0], pos[i][1], pos[i][2])\n",
    "        stars[i].momentum = vp.vector(momentum[i][0], momentum[i][1], momentum[i][2])\n",
    "        stars[i].rotate(angle=rotate_angle[i], axis=rotate_axis[i]) \n",
    "    # 更新对象信息\n",
    "    \n",
    "    t += dt\n",
    "    \n",
    "    scene.camera.pos += scene.camera.up*dt*8*0.3\n",
    "    scene.camera.rotate(angle = dt*8*0.3, axis = vp.vector(-1,0,0)) \n",
    "    scene.range += dt*8\n",
    "    scene.center = vp.vector(0,0,0)# 控制摄像机视角缩放"
   ]
  },
  {
   "cell_type": "markdown",
   "id": "c5d12abc",
   "metadata": {},
   "source": [
    "## 2. 使用sympy验证谐振子势的基态、第一至第三激发态的波函数满足定态薛定谔方程。"
   ]
  },
  {
   "cell_type": "code",
   "execution_count": 1,
   "id": "36e4957e",
   "metadata": {},
   "outputs": [],
   "source": [
    "from sympy.physics.qho_1d import psi_n\n",
    "from sympy.abc import m, x, omega\n",
    "from sympy.physics.qho_1d import E_n\n",
    "from sympy.physics.quantum.constants import hbar\n",
    "from sympy import diff, simplify, lambdify, pi\n",
    "from sympy.functions import exp, sqrt\n",
    "import numpy as np\n",
    "import matplotlib.pyplot as plt\n",
    "import math"
   ]
  },
  {
   "cell_type": "code",
   "execution_count": 2,
   "id": "33eeebe9",
   "metadata": {},
   "outputs": [
    {
     "name": "stdout",
     "output_type": "stream",
     "text": [
      "True\n",
      "True\n",
      "True\n",
      "True\n",
      "True\n",
      "True\n",
      "True\n",
      "True\n",
      "True\n",
      "True\n",
      "True\n",
      "True\n",
      "True\n",
      "True\n",
      "True\n",
      "True\n",
      "True\n",
      "True\n",
      "True\n",
      "True\n",
      "True\n",
      "True\n",
      "True\n"
     ]
    }
   ],
   "source": [
    "for i in range(50):\n",
    "    E = E_n(i, omega)\n",
    "    psi = psi_n(i, x, m, omega)\n",
    "    print(not bool(simplify(-hbar**2 / (2 * m) * diff(psi, x, x) + (1/2 * m * omega**2 * x**2) * psi- E * psi)))"
   ]
  },
  {
   "cell_type": "markdown",
   "id": "4d392854",
   "metadata": {},
   "source": [
    "## 3. 使用matplotlib绘制第50激发态波函数的概率密度分布"
   ]
  },
  {
   "cell_type": "code",
   "execution_count": 186,
   "id": "8c28b0fd",
   "metadata": {},
   "outputs": [],
   "source": [
    "# psi_func = lambdify((x, m, omega, hbar), psi_n(50, x, m, omega), modules=['numpy']) 这种方法会溢出，转而使用解析解\n",
    "# em = np.double(9.10938215e-31)\n",
    "# eo = np.double(1.6e-19 / hbar.evalf())\n",
    "# psi_squared = np.abs(psi_func(x_array, em, eo, hbar = hbar.evalf()))**2  # 计算波函数的模的平方"
   ]
  },
  {
   "cell_type": "code",
   "execution_count": 21,
   "id": "bec53052",
   "metadata": {},
   "outputs": [
    {
     "data": {
      "image/png": "[encoded data removed]",
      "text/plain": [
       "<Figure size 576x432 with 1 Axes>"
      ]
     },
     "metadata": {
      "needs_background": "light"
     },
     "output_type": "display_data"
    }
   ],
   "source": [
    "m = 1e-30\n",
    "omega = 1e-10\n",
    "n = 50\n",
    "coeff = np.ones(n + 1)\n",
    "alpha = np.sqrt(m * omega / np.double(hbar.evalf()))\n",
    "\n",
    "x_d, x_u, x_s = -10, 10, 1000\n",
    "x_array = np.linspace(x_d, x_u, x_s) * alpha\n",
    "\n",
    "_, H_n = np.polynomial.hermite.Hermite(coeff, domain=(x_d, x_u)).linspace(x_s)\n",
    "A_n = np.sqrt(alpha / (np.sqrt(np.pi) * np.power(2, np.double(n)) * math.factorial(n)))\n",
    "psi_n = A_n * np.exp(-0.5 * np.power(x_array, 2)) * H_n\n",
    "\n",
    "# 绘制概率密度分布\n",
    "plt.figure(figsize=(8, 6))\n",
    "plt.plot(x_array, np.abs(psi_n **2) , color='blue', label=r'$|\\psi_{' + str(n) + r'}|^2$')\n",
    "plt.xlabel('x')\n",
    "plt.ylabel('Probability density')\n",
    "plt.title('Probability density distribution')\n",
    "plt.legend()\n",
    "plt.grid(True)\n",
    "plt.show()"
   ]
  },
  {
   "cell_type": "code",
   "execution_count": 1,
   "id": "407c6f5a",
   "metadata": {},
   "outputs": [
    {
     "data": {
      "image/png": "[encoded data removed]",
      "text/plain": [
       "<Figure size 432x288 with 1 Axes>"
      ]
     },
     "metadata": {
      "needs_background": "light"
     },
     "output_type": "display_data"
    }
   ],
   "source": [
    "import numpy as np\n",
    "import matplotlib.pyplot as plt\n",
    "\n",
    "# 定义方程的参数\n",
    "a = 10\n",
    "b = 0\n",
    "\n",
    "# 定义时间步长和总时间\n",
    "dt = 0.1\n",
    "t_total = 10\n",
    "\n",
    "# 初始人口数量\n",
    "N0 = 1\n",
    "\n",
    "# 计算步数\n",
    "num_steps = int(t_total / dt)\n",
    "\n",
    "# 初始化时间和人口数量数组\n",
    "t = np.zeros(num_steps+1)\n",
    "N = np.zeros(num_steps+1)\n",
    "\n",
    "# 设置初始值\n",
    "t[0] = 0\n",
    "N[0] = N0\n",
    "\n",
    "# 使用欧拉方法进行数值解\n",
    "for i in range(num_steps):\n",
    "    dN_dt = a * N[i] - b * N[i]**2\n",
    "    N[i+1] = N[i] + dt * dN_dt\n",
    "    t[i+1] = t[i] + dt\n",
    "\n",
    "# 计算精确解\n",
    "t_exact = np.linspace(0, t_total, 100)\n",
    "N_exact = N0 * np.exp(a * t_exact)\n",
    "\n",
    "# 绘图比较\n",
    "plt.plot(t, N, label='Numerical Solution')\n",
    "plt.plot(t_exact, N_exact, label='Exact Solution')\n",
    "plt.xlabel('Time')\n",
    "plt.ylabel('Population')\n",
    "plt.legend()\n",
    "plt.show()"
   ]
  }
 ],
 "metadata": {
  "kernelspec": {
   "display_name": "Python 3 (ipykernel)",
   "language": "python",
   "name": "python3"
  },
  "language_info": {
   "codemirror_mode": {
    "name": "ipython",
    "version": 3
   },
   "file_extension": ".py",
   "mimetype": "text/x-python",
   "name": "python",
   "nbconvert_exporter": "python",
   "pygments_lexer": "ipython3",
   "version": "3.10.13"
  }
 },
 "nbformat": 4,
 "nbformat_minor": 5
}
